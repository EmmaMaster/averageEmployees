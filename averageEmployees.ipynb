{
 "cells": [
  {
   "cell_type": "code",
   "execution_count": 1,
   "id": "1ad64d65-501f-4300-88ad-ba0b0123f38f",
   "metadata": {},
   "outputs": [],
   "source": [
    "import pandas as pd"
   ]
  },
  {
   "cell_type": "code",
   "execution_count": 2,
   "id": "8cf18539-f41d-4c0c-90fc-87f3155a0fd7",
   "metadata": {},
   "outputs": [],
   "source": [
    "df = pd.read_excel(\"C:/Users/Emma/Desktop/Employees.xlsx\")"
   ]
  },
  {
   "cell_type": "code",
   "execution_count": 3,
   "id": "ab237766-458c-4f1e-9c93-9502e83671d5",
   "metadata": {},
   "outputs": [],
   "source": [
    "df[\"Дата зачисления\"] = pd.to_datetime(df[\"Дата зачисления\"])\n",
    "df = df.sort_values(\"Дата зачисления\")"
   ]
  },
  {
   "cell_type": "code",
   "execution_count": 4,
   "id": "72abbfa5-a881-4dad-9527-35a7d1c025f0",
   "metadata": {},
   "outputs": [],
   "source": [
    "start_date = '2020-01-01'\n",
    "end_date = '2025-12-31'\n",
    "date_range = pd.date_range(start=start_date, end=end_date, freq='D')"
   ]
  },
  {
   "cell_type": "code",
   "execution_count": 5,
   "id": "a191e2bb-0bc2-4df4-8133-b923f5153f15",
   "metadata": {},
   "outputs": [],
   "source": [
    "content = []\n",
    "for day in date_range:\n",
    "    filter = df[(df[\"Дата зачисления\"] <= day) & ((df[\"Дата увольнения\"] > day) | pd.isnull(df[\"Дата увольнения\"]))]\n",
    "    employeeCount = filter[\"ФИО\"].count()\n",
    "    content.append({'date':day, 'employees':employeeCount})\n",
    "employeesDate = pd.DataFrame(content)"
   ]
  },
  {
   "cell_type": "code",
   "execution_count": 6,
   "id": "a35e7855-cab4-4679-880c-bc8f133c8fc6",
   "metadata": {},
   "outputs": [
    {
     "data": {
      "text/plain": [
       "date\n",
       "2020-01     0.5\n",
       "2020-02     2.0\n",
       "2020-03     2.8\n",
       "2020-04     3.9\n",
       "2020-05     4.5\n",
       "           ... \n",
       "2025-08    24.0\n",
       "2025-09    24.0\n",
       "2025-10    24.0\n",
       "2025-11    24.1\n",
       "2025-12    24.3\n",
       "Name: employees, Length: 72, dtype: float64"
      ]
     },
     "execution_count": 6,
     "metadata": {},
     "output_type": "execute_result"
    }
   ],
   "source": [
    "employeesDate.groupby(employeesDate['date'].dt.strftime('%Y-%m'))['employees'].mean().round(1)"
   ]
  },
  {
   "cell_type": "code",
   "execution_count": 7,
   "id": "7a3b7c18-e67f-4940-bdd3-430f24eab46d",
   "metadata": {},
   "outputs": [
    {
     "data": {
      "text/plain": [
       "pandas.core.series.Series"
      ]
     },
     "execution_count": 7,
     "metadata": {},
     "output_type": "execute_result"
    }
   ],
   "source": [
    "type(employeesDate.groupby(employeesDate['date'].dt.strftime('%Y-%m'))['employees'].mean().round(1))"
   ]
  },
  {
   "cell_type": "code",
   "execution_count": null,
   "id": "f68809da-08f4-4137-8ed7-1cde57b539b5",
   "metadata": {},
   "outputs": [],
   "source": []
  }
 ],
 "metadata": {
  "kernelspec": {
   "display_name": "Python 3 (ipykernel)",
   "language": "python",
   "name": "python3"
  },
  "language_info": {
   "codemirror_mode": {
    "name": "ipython",
    "version": 3
   },
   "file_extension": ".py",
   "mimetype": "text/x-python",
   "name": "python",
   "nbconvert_exporter": "python",
   "pygments_lexer": "ipython3",
   "version": "3.11.4"
  }
 },
 "nbformat": 4,
 "nbformat_minor": 5
}
